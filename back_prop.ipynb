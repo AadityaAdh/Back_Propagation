{
  "nbformat": 4,
  "nbformat_minor": 0,
  "metadata": {
    "colab": {
      "provenance": [],
      "authorship_tag": "ABX9TyMZWg7c2kZjijeyV35GQpw+",
      "include_colab_link": true
    },
    "kernelspec": {
      "name": "python3",
      "display_name": "Python 3"
    },
    "language_info": {
      "name": "python"
    }
  },
  "cells": [
    {
      "cell_type": "markdown",
      "metadata": {
        "id": "view-in-github",
        "colab_type": "text"
      },
      "source": [
        "<a href=\"https://colab.research.google.com/github/AadityaAdh/Back_Propagation/blob/main/back_prop.ipynb\" target=\"_parent\"><img src=\"https://colab.research.google.com/assets/colab-badge.svg\" alt=\"Open In Colab\"/></a>"
      ]
    },
    {
      "cell_type": "code",
      "execution_count": null,
      "metadata": {
        "id": "551e88_16Jos"
      },
      "outputs": [],
      "source": [
        "import tensorflow as tf\n",
        "from tensorflow.keras.models import Sequential\n",
        "from tensorflow.keras.layers import Dense,InputLayer\n",
        "from tensorflow.keras.optimizers import Adam\n",
        "from tensorflow.keras.losses import mse\n",
        "import numpy as np"
      ]
    },
    {
      "cell_type": "code",
      "source": [
        "def build_model():\n",
        "  model=Sequential()\n",
        "  model.add(InputLayer(input_shape=(2,)))\n",
        "  model.add(Dense(2,activation='sigmoid'))\n",
        "  model.add(Dense(2,activation='sigmoid'))\n",
        "  return model"
      ],
      "metadata": {
        "id": "_4V7n-YN6eIh"
      },
      "execution_count": null,
      "outputs": []
    },
    {
      "cell_type": "code",
      "source": [
        "model=build_model()\n",
        "model.summary()"
      ],
      "metadata": {
        "colab": {
          "base_uri": "https://localhost:8080/"
        },
        "id": "2EabDoKk7OzY",
        "outputId": "4d24fb59-5f1c-4f90-a5e9-26a459966eb4"
      },
      "execution_count": null,
      "outputs": [
        {
          "output_type": "stream",
          "name": "stdout",
          "text": [
            "Model: \"sequential_4\"\n",
            "_________________________________________________________________\n",
            " Layer (type)                Output Shape              Param #   \n",
            "=================================================================\n",
            " dense_6 (Dense)             (None, 2)                 6         \n",
            "                                                                 \n",
            " dense_7 (Dense)             (None, 2)                 6         \n",
            "                                                                 \n",
            "=================================================================\n",
            "Total params: 12 (48.00 Byte)\n",
            "Trainable params: 12 (48.00 Byte)\n",
            "Non-trainable params: 0 (0.00 Byte)\n",
            "_________________________________________________________________\n"
          ]
        }
      ]
    },
    {
      "cell_type": "code",
      "source": [
        "weights_and_biases = [\n",
        "    np.array([[1.1261417, 0.22808969], [0.9494957, -0.86430585]]),\n",
        "    np.array([0.0, 0.0]),\n",
        "    np.array([[-0.64400184, -0.8975538], [0.08083081, 0.160573]]),\n",
        "    np.array([0.0, 0.0])\n",
        "]\n",
        "\n",
        "\n",
        "model.set_weights(weights_and_biases)"
      ],
      "metadata": {
        "id": "TNnc9fc07RZf"
      },
      "execution_count": null,
      "outputs": []
    },
    {
      "cell_type": "code",
      "source": [
        "model.trainable_variables"
      ],
      "metadata": {
        "colab": {
          "base_uri": "https://localhost:8080/"
        },
        "id": "Xo3xHImLAjWd",
        "outputId": "871836dc-508e-431c-b556-76e081a1bcc7"
      },
      "execution_count": null,
      "outputs": [
        {
          "output_type": "execute_result",
          "data": {
            "text/plain": [
              "[<tf.Variable 'dense_6/kernel:0' shape=(2, 2) dtype=float32, numpy=\n",
              " array([[ 1.1261417 ,  0.22808969],\n",
              "        [ 0.9494957 , -0.86430585]], dtype=float32)>,\n",
              " <tf.Variable 'dense_6/bias:0' shape=(2,) dtype=float32, numpy=array([0., 0.], dtype=float32)>,\n",
              " <tf.Variable 'dense_7/kernel:0' shape=(2, 2) dtype=float32, numpy=\n",
              " array([[-0.64400184, -0.8975538 ],\n",
              "        [ 0.08083081,  0.160573  ]], dtype=float32)>,\n",
              " <tf.Variable 'dense_7/bias:0' shape=(2,) dtype=float32, numpy=array([0., 0.], dtype=float32)>]"
            ]
          },
          "metadata": {},
          "execution_count": 53
        }
      ]
    },
    {
      "cell_type": "code",
      "source": [
        "x=np.array([0.05,0.10])\n",
        "x=np.reshape(x,(1,2))\n",
        "x"
      ],
      "metadata": {
        "colab": {
          "base_uri": "https://localhost:8080/"
        },
        "id": "gWsRWYYY7gxS",
        "outputId": "3f6c99f4-b475-4c58-8e85-17a0ca881ae1"
      },
      "execution_count": null,
      "outputs": [
        {
          "output_type": "execute_result",
          "data": {
            "text/plain": [
              "array([[0.05, 0.1 ]])"
            ]
          },
          "metadata": {},
          "execution_count": 42
        }
      ]
    },
    {
      "cell_type": "code",
      "source": [
        "model.predict(x)"
      ],
      "metadata": {
        "colab": {
          "base_uri": "https://localhost:8080/"
        },
        "id": "nUxm2JKN_NKX",
        "outputId": "3bdbd4df-6e94-4263-8f76-345467f39c48"
      },
      "execution_count": null,
      "outputs": [
        {
          "output_type": "stream",
          "name": "stdout",
          "text": [
            "1/1 [==============================] - 0s 52ms/step\n"
          ]
        },
        {
          "output_type": "execute_result",
          "data": {
            "text/plain": [
              "array([[0.42374778, 0.40002128]], dtype=float32)"
            ]
          },
          "metadata": {},
          "execution_count": 43
        }
      ]
    },
    {
      "cell_type": "code",
      "source": [
        "optimizer = Adam(learning_rate=0.01)\n",
        "model.compile(optimizer=optimizer, loss=mse)"
      ],
      "metadata": {
        "id": "fKuhialwGHbe"
      },
      "execution_count": null,
      "outputs": []
    },
    {
      "cell_type": "code",
      "source": [
        "x = np.array([[0.05, 0.10]])\n",
        "y = np.array([[0.01, 0.99]])\n",
        "\n",
        "x.reshape(1,2)\n",
        "y.reshape(1,2)"
      ],
      "metadata": {
        "colab": {
          "base_uri": "https://localhost:8080/"
        },
        "id": "hbrmTwLrEifC",
        "outputId": "938029a4-b89f-4075-cbdd-bb448c3d6a9f"
      },
      "execution_count": null,
      "outputs": [
        {
          "output_type": "execute_result",
          "data": {
            "text/plain": [
              "array([[0.01, 0.99]])"
            ]
          },
          "metadata": {},
          "execution_count": 55
        }
      ]
    },
    {
      "cell_type": "code",
      "source": [
        "model.fit(x, y, epochs=1, verbose=1)"
      ],
      "metadata": {
        "colab": {
          "base_uri": "https://localhost:8080/"
        },
        "id": "rWbDdwxMElTw",
        "outputId": "1ae296b3-13d9-4523-d66a-2e7a7cffe625"
      },
      "execution_count": null,
      "outputs": [
        {
          "output_type": "stream",
          "name": "stdout",
          "text": [
            "1/1 [==============================] - 1s 522ms/step - loss: 0.2596\n"
          ]
        },
        {
          "output_type": "execute_result",
          "data": {
            "text/plain": [
              "<keras.src.callbacks.History at 0x7f4322b30dc0>"
            ]
          },
          "metadata": {},
          "execution_count": 46
        }
      ]
    },
    {
      "cell_type": "code",
      "source": [
        "model.trainable_variables"
      ],
      "metadata": {
        "colab": {
          "base_uri": "https://localhost:8080/"
        },
        "id": "4FKD-3xCF1s6",
        "outputId": "3159ce25-7039-42c3-fd08-6ca4f871ed7c"
      },
      "execution_count": null,
      "outputs": [
        {
          "output_type": "execute_result",
          "data": {
            "text/plain": [
              "[<tf.Variable 'dense_4/kernel:0' shape=(2, 2) dtype=float32, numpy=\n",
              " array([[ 1.1161826 ,  0.23791872],\n",
              "        [ 0.9395162 , -0.8543921 ]], dtype=float32)>,\n",
              " <tf.Variable 'dense_4/bias:0' shape=(2,) dtype=float32, numpy=array([-0.00999788,  0.00999125], dtype=float32)>,\n",
              " <tf.Variable 'dense_5/kernel:0' shape=(2, 2) dtype=float32, numpy=\n",
              " array([[-0.6540012 , -0.8875543 ],\n",
              "        [ 0.07083153,  0.17057247]], dtype=float32)>,\n",
              " <tf.Variable 'dense_5/bias:0' shape=(2,) dtype=float32, numpy=array([-0.00999962,  0.00999971], dtype=float32)>]"
            ]
          },
          "metadata": {},
          "execution_count": 47
        }
      ]
    },
    {
      "cell_type": "code",
      "source": [
        "with tf.GradientTape() as tape:\n",
        "    y_pred = model(x)\n",
        "    loss = mse(y, y_pred)\n",
        "\n",
        "\n",
        "grads = tape.gradient(loss, model.trainable_variables)"
      ],
      "metadata": {
        "id": "SeyIUdy1G0yz"
      },
      "execution_count": null,
      "outputs": []
    },
    {
      "cell_type": "code",
      "source": [
        "grads"
      ],
      "metadata": {
        "colab": {
          "base_uri": "https://localhost:8080/"
        },
        "id": "jIETWoCIKOGh",
        "outputId": "3c812332-8adb-493c-ac9f-dc7a23521db6"
      },
      "execution_count": null,
      "outputs": [
        {
          "output_type": "execute_result",
          "data": {
            "text/plain": [
              "[<tf.Tensor: shape=(2, 2), dtype=float32, numpy=\n",
              " array([[ 0.00077092, -0.00018187],\n",
              "        [ 0.00154184, -0.00036374]], dtype=float32)>,\n",
              " <tf.Tensor: shape=(2,), dtype=float32, numpy=array([ 0.01541838, -0.00363745], dtype=float32)>,\n",
              " <tf.Tensor: shape=(2, 2), dtype=float32, numpy=\n",
              " array([[ 0.05432877, -0.07614289],\n",
              "        [ 0.04862152, -0.06814406]], dtype=float32)>,\n",
              " <tf.Tensor: shape=(2,), dtype=float32, numpy=array([ 0.10103125, -0.14159739], dtype=float32)>]"
            ]
          },
          "metadata": {},
          "execution_count": 57
        }
      ]
    },
    {
      "cell_type": "code",
      "source": [
        "a=[[1,2],[3,4],[5,6]]\n",
        "b=[\"a\",\"b\",\"c\"]\n",
        "c=list(zip(a,b))\n",
        "c"
      ],
      "metadata": {
        "colab": {
          "base_uri": "https://localhost:8080/"
        },
        "id": "jckO9bKRKPX3",
        "outputId": "54bf7578-8669-40d7-9a11-acfb2cc9f629"
      },
      "execution_count": null,
      "outputs": [
        {
          "output_type": "execute_result",
          "data": {
            "text/plain": [
              "[([1, 2], 'a'), ([3, 4], 'b'), ([5, 6], 'c')]"
            ]
          },
          "metadata": {},
          "execution_count": 63
        }
      ]
    },
    {
      "cell_type": "code",
      "source": [
        "model.apply_gradients(zip(grads, model.trainable_variables))"
      ],
      "metadata": {
        "colab": {
          "base_uri": "https://localhost:8080/",
          "height": 139
        },
        "id": "beu7wPvbKypS",
        "outputId": "0710a655-a730-4db2-c4f0-d7dfb270b778"
      },
      "execution_count": null,
      "outputs": [
        {
          "output_type": "error",
          "ename": "AttributeError",
          "evalue": "'Sequential' object has no attribute 'apply_gradients'",
          "traceback": [
            "\u001b[0;31m---------------------------------------------------------------------------\u001b[0m",
            "\u001b[0;31mAttributeError\u001b[0m                            Traceback (most recent call last)",
            "\u001b[0;32m<ipython-input-64-b852786eab0d>\u001b[0m in \u001b[0;36m<cell line: 1>\u001b[0;34m()\u001b[0m\n\u001b[0;32m----> 1\u001b[0;31m \u001b[0mmodel\u001b[0m\u001b[0;34m.\u001b[0m\u001b[0mapply_gradients\u001b[0m\u001b[0;34m(\u001b[0m\u001b[0mzip\u001b[0m\u001b[0;34m(\u001b[0m\u001b[0mgrads\u001b[0m\u001b[0;34m,\u001b[0m \u001b[0mmodel\u001b[0m\u001b[0;34m.\u001b[0m\u001b[0mtrainable_variables\u001b[0m\u001b[0;34m)\u001b[0m\u001b[0;34m)\u001b[0m\u001b[0;34m\u001b[0m\u001b[0;34m\u001b[0m\u001b[0m\n\u001b[0m",
            "\u001b[0;31mAttributeError\u001b[0m: 'Sequential' object has no attribute 'apply_gradients'"
          ]
        }
      ]
    },
    {
      "cell_type": "code",
      "source": [],
      "metadata": {
        "id": "e3-ku74_ROtV"
      },
      "execution_count": 69,
      "outputs": []
    },
    {
      "cell_type": "code",
      "source": [],
      "metadata": {
        "id": "o1kFKvxgRWVQ"
      },
      "execution_count": null,
      "outputs": []
    }
  ]
}